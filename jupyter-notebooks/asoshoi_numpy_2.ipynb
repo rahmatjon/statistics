{
 "cells": [
  {
   "cell_type": "code",
   "execution_count": 1,
   "id": "9660cdd5-82b9-49fe-b8ab-1b676f8e20ff",
   "metadata": {},
   "outputs": [],
   "source": [
    "import numpy as np"
   ]
  },
  {
   "cell_type": "code",
   "execution_count": 2,
   "id": "912af248-5cc1-4659-b527-8e0ada0c1cff",
   "metadata": {},
   "outputs": [
    {
     "data": {
      "text/plain": [
       "array([ 1.,  2.,  3.,  4.,  5.,  0.,  1.,  2.,  3.,  4.,  5.,  1.,  2.,\n",
       "        3.,  4.,  5.,  0.,  1.,  2.,  3.,  6.,  7.,  8.,  9., -1.])"
      ]
     },
     "execution_count": 2,
     "metadata": {},
     "output_type": "execute_result"
    }
   ],
   "source": [
    "a = np.genfromtxt('data25.csv', skip_header=1, delimiter=\",\")\n",
    "a"
   ]
  },
  {
   "cell_type": "code",
   "execution_count": 4,
   "id": "7a502267-cd49-4aea-9d64-c0a5b463044b",
   "metadata": {},
   "outputs": [
    {
     "data": {
      "text/plain": [
       "(25, 25, (25,), 1)"
      ]
     },
     "execution_count": 4,
     "metadata": {},
     "output_type": "execute_result"
    }
   ],
   "source": [
    "len(a), a.size, a.shape, a.ndim"
   ]
  },
  {
   "cell_type": "code",
   "execution_count": 6,
   "id": "3f64d07c-b741-45b9-bde1-4a59ddeb5f73",
   "metadata": {},
   "outputs": [
    {
     "data": {
      "text/plain": [
       "array([[ 1.,  2.,  3.,  4.,  5.],\n",
       "       [ 0.,  1.,  2.,  3.,  4.],\n",
       "       [ 5.,  1.,  2.,  3.,  4.],\n",
       "       [ 5.,  0.,  1.,  2.,  3.],\n",
       "       [ 6.,  7.,  8.,  9., -1.]])"
      ]
     },
     "execution_count": 6,
     "metadata": {},
     "output_type": "execute_result"
    }
   ],
   "source": [
    "b = a.reshape((5,5))\n",
    "b"
   ]
  },
  {
   "cell_type": "code",
   "execution_count": 8,
   "id": "e117e083-e5be-443b-9472-d96a64205bdb",
   "metadata": {},
   "outputs": [
    {
     "data": {
      "text/plain": [
       "(5, 25, (5, 5), 2)"
      ]
     },
     "execution_count": 8,
     "metadata": {},
     "output_type": "execute_result"
    }
   ],
   "source": [
    "len(b), b.size, b.shape, b.ndim"
   ]
  },
  {
   "cell_type": "code",
   "execution_count": 9,
   "id": "54728ced-d528-4a06-ad2e-554831a6b6a4",
   "metadata": {},
   "outputs": [
    {
     "data": {
      "text/plain": [
       "array([15., 10., 15., 11., 29.])"
      ]
     },
     "execution_count": 9,
     "metadata": {},
     "output_type": "execute_result"
    }
   ],
   "source": [
    "np.sum(b,axis=1)"
   ]
  },
  {
   "cell_type": "code",
   "execution_count": 11,
   "id": "48765ad0-7750-4554-851c-c0ef2509dbac",
   "metadata": {},
   "outputs": [
    {
     "data": {
      "text/plain": [
       "array([17., 11., 16., 21., 15.])"
      ]
     },
     "execution_count": 11,
     "metadata": {},
     "output_type": "execute_result"
    }
   ],
   "source": [
    "np.sum(b,axis=0)"
   ]
  },
  {
   "cell_type": "code",
   "execution_count": 12,
   "id": "663a7c7a-15d9-4e4b-a690-c3322de12dc9",
   "metadata": {},
   "outputs": [
    {
     "data": {
      "text/plain": [
       "array([3. , 2. , 3. , 2.2, 5.8])"
      ]
     },
     "execution_count": 12,
     "metadata": {},
     "output_type": "execute_result"
    }
   ],
   "source": [
    "np.mean(b,axis=1)"
   ]
  },
  {
   "cell_type": "code",
   "execution_count": 13,
   "id": "ed139120-6fb1-4ee6-b095-3ab13d48cfda",
   "metadata": {},
   "outputs": [
    {
     "data": {
      "text/plain": [
       "array([ 1.,  0.,  1.,  0., -1.])"
      ]
     },
     "execution_count": 13,
     "metadata": {},
     "output_type": "execute_result"
    }
   ],
   "source": [
    "np.min(b,axis=1)"
   ]
  },
  {
   "cell_type": "code",
   "execution_count": 14,
   "id": "0a60e76d-e349-4381-8d7d-58990fbfcc42",
   "metadata": {},
   "outputs": [
    {
     "data": {
      "text/plain": [
       "array([5., 4., 5., 5., 9.])"
      ]
     },
     "execution_count": 14,
     "metadata": {},
     "output_type": "execute_result"
    }
   ],
   "source": [
    "np.max(b,axis=1)"
   ]
  },
  {
   "cell_type": "code",
   "execution_count": 15,
   "id": "c26d1255-5bf0-4ea4-89b7-eb61b2dd8540",
   "metadata": {},
   "outputs": [
    {
     "data": {
      "text/plain": [
       "array([3., 2., 3., 2., 7.])"
      ]
     },
     "execution_count": 15,
     "metadata": {},
     "output_type": "execute_result"
    }
   ],
   "source": [
    "np.median(b,axis=1)"
   ]
  },
  {
   "cell_type": "code",
   "execution_count": 16,
   "id": "dd130ec5-4cde-4b68-a37e-823e64cdd94e",
   "metadata": {},
   "outputs": [],
   "source": [
    "np.savetxt('array_b.txt', b, delimiter =',')"
   ]
  },
  {
   "cell_type": "code",
   "execution_count": 17,
   "id": "a159431a-8d0c-4163-a9f5-97b1f3ecaeb2",
   "metadata": {},
   "outputs": [
    {
     "data": {
      "text/plain": [
       "array([[ 1.,  2.,  3.,  4.,  5.],\n",
       "       [ 0.,  1.,  2.,  3.,  4.],\n",
       "       [ 5.,  1.,  2.,  3.,  4.],\n",
       "       [ 5.,  0.,  1.,  2.,  3.],\n",
       "       [ 6.,  7.,  8.,  9., -1.]])"
      ]
     },
     "execution_count": 17,
     "metadata": {},
     "output_type": "execute_result"
    }
   ],
   "source": [
    "b2 = np.genfromtxt('array_b.txt', delimiter=\",\")\n",
    "b2"
   ]
  },
  {
   "cell_type": "markdown",
   "id": "9a233bc8-9c88-448a-8f01-d9e9e981f174",
   "metadata": {},
   "source": [
    "**Масъала.** Массиви 3-ченака ба файл сабт карда шавад."
   ]
  },
  {
   "cell_type": "code",
   "execution_count": 18,
   "id": "91ec3f5c-9765-4f1c-9265-2dd90a09057a",
   "metadata": {},
   "outputs": [
    {
     "data": {
      "text/plain": [
       "array([1., 2., 3., 4., 5., 0.])"
      ]
     },
     "execution_count": 18,
     "metadata": {},
     "output_type": "execute_result"
    }
   ],
   "source": [
    "c = a[:6]\n",
    "c"
   ]
  },
  {
   "cell_type": "code",
   "execution_count": 19,
   "id": "a5cd6fc5-327b-4f8e-8940-7c41e93443a0",
   "metadata": {},
   "outputs": [
    {
     "data": {
      "text/plain": [
       "np.float64(2.5)"
      ]
     },
     "execution_count": 19,
     "metadata": {},
     "output_type": "execute_result"
    }
   ],
   "source": [
    "np.median(c)"
   ]
  },
  {
   "cell_type": "code",
   "execution_count": 21,
   "id": "f12ddbd0-c714-4385-805f-31b2aa8184d5",
   "metadata": {},
   "outputs": [
    {
     "data": {
      "text/plain": [
       "array([0., 1., 2., 3., 4., 5.])"
      ]
     },
     "execution_count": 21,
     "metadata": {},
     "output_type": "execute_result"
    }
   ],
   "source": [
    "c.sort()\n",
    "c"
   ]
  },
  {
   "cell_type": "code",
   "execution_count": 22,
   "id": "33ce4c97-f1a5-4837-a8e5-748060e335d1",
   "metadata": {},
   "outputs": [
    {
     "name": "stdout",
     "output_type": "stream",
     "text": [
      "2.0\n",
      "[0. 1. 2. 3. 4. 5. 1.]\n",
      "[0. 1. 1. 2. 3. 4. 5.]\n"
     ]
    }
   ],
   "source": [
    "c = a[:7]\n",
    "print(np.median(c))\n",
    "print(c)\n",
    "c.sort()\n",
    "print(c)"
   ]
  },
  {
   "cell_type": "code",
   "execution_count": 25,
   "id": "2b575f37-4df1-4edf-a7ba-1daabe436f86",
   "metadata": {},
   "outputs": [
    {
     "name": "stdout",
     "output_type": "stream",
     "text": [
      "[-1.  0.  1.  2.  3.  4.  5.  6.  7.  8.  9.]\n",
      "[ 0.  1.  1.  2.  3.  4.  5.  2.  3.  4.  5.  1.  2.  3.  4.  5.  0.  1.\n",
      "  2.  3.  6.  7.  8.  9. -1.]\n"
     ]
    }
   ],
   "source": [
    "print(np.unique(a))\n",
    "print(a)"
   ]
  },
  {
   "cell_type": "code",
   "execution_count": 26,
   "id": "06642df0-6c23-44b5-84ea-8783c0b96598",
   "metadata": {},
   "outputs": [
    {
     "name": "stdout",
     "output_type": "stream",
     "text": [
      "[-1.  0.  1.  2.  3.  4.  5.  6.  7.  8.  9.]\n",
      "[[ 0.  1.  1.  2.  3.]\n",
      " [ 4.  5.  2.  3.  4.]\n",
      " [ 5.  1.  2.  3.  4.]\n",
      " [ 5.  0.  1.  2.  3.]\n",
      " [ 6.  7.  8.  9. -1.]]\n"
     ]
    }
   ],
   "source": [
    "print(np.unique(b))\n",
    "print(b)"
   ]
  },
  {
   "cell_type": "code",
   "execution_count": 27,
   "id": "77201412-cbc5-4c43-9db9-2650e6fd040e",
   "metadata": {},
   "outputs": [
    {
     "name": "stdout",
     "output_type": "stream",
     "text": [
      "[0. 1. 1. 2. 3. 4. 5.]\n",
      "[0. 1. 2. 3. 4. 5.]\n"
     ]
    }
   ],
   "source": [
    "print(c)\n",
    "print(np.unique(c))"
   ]
  },
  {
   "cell_type": "code",
   "execution_count": null,
   "id": "4a54d963-3012-4321-afa2-680549a8dddd",
   "metadata": {},
   "outputs": [],
   "source": []
  }
 ],
 "metadata": {
  "kernelspec": {
   "display_name": "Python 3 (ipykernel)",
   "language": "python",
   "name": "python3"
  },
  "language_info": {
   "codemirror_mode": {
    "name": "ipython",
    "version": 3
   },
   "file_extension": ".py",
   "mimetype": "text/x-python",
   "name": "python",
   "nbconvert_exporter": "python",
   "pygments_lexer": "ipython3",
   "version": "3.12.2"
  }
 },
 "nbformat": 4,
 "nbformat_minor": 5
}

{
 "cells": [
  {
   "cell_type": "markdown",
   "id": "2c2dbd2d-c8f5-4ada-812f-ab2ed6a0a20e",
   "metadata": {},
   "source": [
    "# Plotly Express\n"
   ]
  },
  {
   "attachments": {
    "3b61cc9f-9abe-4bcb-9a66-273d94a1d922.png": {
     "image/png": "[encoded data removed]"
    }
   },
   "cell_type": "markdown",
   "id": "2604c006-e889-42d2-8259-0b64449ec8a8",
   "metadata": {},
   "source": [
    "Составитель: Ҳакимов Раҳматҷон. Email: rahmatjon@gmail.com. Telegram: https://t.me/rahmatjon_hakimov\n",
    "\n",
    "![cc-by-sa.png](attachment:3b61cc9f-9abe-4bcb-9a66-273d94a1d922.png)"
   ]
  },
  {
   "cell_type": "markdown",
   "id": "9608d35d-597c-4213-a47d-d5c8a3478fb6",
   "metadata": {},
   "source": [
    "Plotly Express is a high-level wrapper for Plotly that makes it easy to create interactive visualizations in Python with just a few lines of code. Here’s a quick tutorial to get you started."
   ]
  },
  {
   "cell_type": "markdown",
   "id": "76c53f35-baa9-4591-8cf3-0b67e3fb0ebf",
   "metadata": {},
   "source": [
    "## 📌 **1. Installation**\n",
    "If you haven’t installed Plotly yet, do so using pip:"
   ]
  },
  {
   "cell_type": "code",
   "execution_count": null,
   "id": "6c6f7d6b-e1e9-43ab-b1e6-9c949f903e04",
   "metadata": {},
   "outputs": [],
   "source": [
    "pip install plotly"
   ]
  },
  {
   "cell_type": "markdown",
   "id": "08ea0cde-1ad9-45b1-8bb2-c49ca109db3e",
   "metadata": {},
   "source": [
    "## 📌 **2. Importing Plotly Express**"
   ]
  },
  {
   "cell_type": "code",
   "execution_count": 17,
   "id": "e4fcfdd6-a08e-4d69-ad1b-97683c8b6717",
   "metadata": {},
   "outputs": [],
   "source": [
    "import plotly.express as px\n",
    "import pandas as pd"
   ]
  },
  {
   "cell_type": "markdown",
   "id": "2497c978-566b-4a93-98c5-c5036865d679",
   "metadata": {},
   "source": [
    "## 📌 **3. Basic Scatter Plot**"
   ]
  },
  {
   "cell_type": "code",
   "execution_count": null,
   "id": "dbe9fabb-e0e5-4838-ab82-5d5560b69d0e",
   "metadata": {},
   "outputs": [],
   "source": [
    "df = px.data.iris()  # Load a sample dataset\n",
    "fig = px.scatter(df, x=\"sepal_width\", y=\"sepal_length\", color=\"species\")\n",
    "fig.show()"
   ]
  },
  {
   "cell_type": "markdown",
   "id": "479f91ea-4d93-43fa-a635-f985406ef093",
   "metadata": {},
   "source": [
    "🔹 `color=\"species\"` differentiates points based on species."
   ]
  },
  {
   "cell_type": "markdown",
   "id": "f58a0ec9-3aea-4cd1-b8d8-b17a646fe1d2",
   "metadata": {},
   "source": [
    "## 📌 **4. Line Plot**"
   ]
  },
  {
   "cell_type": "code",
   "execution_count": null,
   "id": "845a10b4-4a65-4e6a-9f56-b6b999c69071",
   "metadata": {},
   "outputs": [],
   "source": [
    "df = px.data.gapminder()\n",
    "fig = px.line(df[df['country'] == 'India'], x='year', y='gdpPercap', title='GDP per Capita in India')\n",
    "fig.show()"
   ]
  },
  {
   "cell_type": "markdown",
   "id": "1782f15d-ff82-498f-9ffb-eeefa7da18b7",
   "metadata": {},
   "source": [
    "🔹 This plots GDP per capita over time for India."
   ]
  },
  {
   "cell_type": "markdown",
   "id": "d2e5c10a-5ee5-4f69-9782-3c3a9f1d97dd",
   "metadata": {},
   "source": [
    "## 📌 **5. Bar Chart**"
   ]
  },
  {
   "cell_type": "code",
   "execution_count": null,
   "id": "0733c01a-401c-4b09-a41b-094e53c10be3",
   "metadata": {},
   "outputs": [],
   "source": [
    "df = px.data.tips()\n",
    "fig = px.bar(df, x=\"day\", y=\"total_bill\", color=\"sex\", barmode=\"group\")\n",
    "fig.show()"
   ]
  },
  {
   "cell_type": "markdown",
   "id": "36830127-e40f-4dab-9151-73a096de4344",
   "metadata": {},
   "source": [
    "🔹 `barmode=\"group\"` places bars side by side."
   ]
  },
  {
   "cell_type": "markdown",
   "id": "0569fd95-e675-484e-8952-04837483170d",
   "metadata": {},
   "source": [
    "## 📌 **6. Histogram**"
   ]
  },
  {
   "cell_type": "code",
   "execution_count": null,
   "id": "bcab8fd0-c86b-4a42-962c-35b8b0a521b5",
   "metadata": {},
   "outputs": [],
   "source": [
    "fig = px.histogram(df, x=\"total_bill\", nbins=20, color=\"sex\")\n",
    "fig.show()"
   ]
  },
  {
   "cell_type": "markdown",
   "id": "68bf0e44-ac04-47ed-8e9b-50df7ca70f50",
   "metadata": {},
   "source": [
    "🔹 Adjust `nbins` for bin count."
   ]
  },
  {
   "cell_type": "markdown",
   "id": "9f235dce-4071-4a6d-9259-a83d7d311f23",
   "metadata": {},
   "source": [
    "## 📌 **7. Pie Chart**"
   ]
  },
  {
   "cell_type": "code",
   "execution_count": null,
   "id": "13b8f116-c5c7-41a2-b23f-ee2ca9cc95db",
   "metadata": {},
   "outputs": [],
   "source": [
    "fig = px.pie(df, names=\"day\", values=\"total_bill\", title=\"Total Bill per Day\")\n",
    "fig.show()"
   ]
  },
  {
   "cell_type": "markdown",
   "id": "1425f3d0-a26a-4591-ba1b-4eee306ee5dc",
   "metadata": {},
   "source": [
    "## 📌 **8. Box Plot**"
   ]
  },
  {
   "cell_type": "code",
   "execution_count": null,
   "id": "42addb56-97d3-4f76-bc2d-a4da659d41d7",
   "metadata": {},
   "outputs": [],
   "source": [
    "fig = px.box(df, x=\"day\", y=\"total_bill\", color=\"sex\")\n",
    "fig.show()"
   ]
  },
  {
   "cell_type": "markdown",
   "id": "894794d2-8a75-4e00-bcf1-e5c24bf6f4a9",
   "metadata": {},
   "source": [
    "🔹 Shows distribution and outliers."
   ]
  },
  {
   "cell_type": "markdown",
   "id": "cec2eda5-d075-4d71-8355-3f71f2a5f6d7",
   "metadata": {},
   "source": [
    "## 📌 **9. Heatmap using Imshow**"
   ]
  },
  {
   "cell_type": "code",
   "execution_count": null,
   "id": "ea7e3b3b-7c9a-4529-8bd6-01f698345a7f",
   "metadata": {},
   "outputs": [],
   "source": [
    "import numpy as np\n",
    "z = np.random.rand(10,10)\n",
    "fig = px.imshow(z, color_continuous_scale='viridis')\n",
    "fig.show()"
   ]
  },
  {
   "cell_type": "markdown",
   "id": "85a9b2b5-6dee-4f87-a81d-eddcc6012779",
   "metadata": {},
   "source": [
    "## 📌 **10. Customization**"
   ]
  },
  {
   "cell_type": "code",
   "execution_count": null,
   "id": "bf1e4616-d150-4d18-96f6-5296802f99ae",
   "metadata": {},
   "outputs": [],
   "source": [
    "fig.update_layout(title=\"Custom Title\", xaxis_title=\"X Label\", yaxis_title=\"Y Label\")"
   ]
  },
  {
   "cell_type": "code",
   "execution_count": null,
   "id": "8ce4fb1b-6366-40d1-92bc-3b9206405960",
   "metadata": {},
   "outputs": [],
   "source": []
  }
 ],
 "metadata": {
  "kernelspec": {
   "display_name": "Python 3 (ipykernel)",
   "language": "python",
   "name": "python3"
  },
  "language_info": {
   "codemirror_mode": {
    "name": "ipython",
    "version": 3
   },
   "file_extension": ".py",
   "mimetype": "text/x-python",
   "name": "python",
   "nbconvert_exporter": "python",
   "pygments_lexer": "ipython3",
   "version": "3.12.5"
  }
 },
 "nbformat": 4,
 "nbformat_minor": 5
}
